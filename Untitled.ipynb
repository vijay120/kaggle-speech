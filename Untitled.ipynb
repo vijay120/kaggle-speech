{
 "cells": [
  {
   "cell_type": "code",
   "execution_count": 153,
   "metadata": {
    "collapsed": true,
    "scrolled": false
   },
   "outputs": [],
   "source": [
    "%matplotlib inline\n",
    "\n",
    "import matplotlib.pyplot as plt\n",
    "from scipy import signal\n",
    "from scipy.io import wavfile\n",
    "import os\n",
    "from os import listdir\n",
    "from os.path import isfile, join\n",
    "import numpy as np\n",
    "\n",
    "yes_path = \"/Users/vijayrk/kaggle-speech/yes-small-mono/\"\n",
    "yes_files = [os.path.join(yes_path, f) for f in listdir(yes_path) if isfile(join(yes_path, f))]\n",
    "\n",
    "no_path = \"/Users/vijayrk/kaggle-speech/no-small-mono/\"\n",
    "no_files = [os.path.join(no_path, f) for f in listdir(no_path) if isfile(join(no_path, f))]\n",
    "\n",
    "X = []\n",
    "Y = []\n",
    "\n",
    "for files in yes_files:\n",
    "    sample_rate, samples = wavfile.read(files)\n",
    "    frequencies, times, spectogram = signal.spectrogram(samples, sample_rate)\n",
    "    spectogram = spectogram[:, :71]\n",
    "    X.append(spectogram)\n",
    "    Y.append([1,0])\n",
    "    \n",
    "\n",
    "for files in no_files:\n",
    "    sample_rate, samples = wavfile.read(files)\n",
    "    frequencies, times, spectogram = signal.spectrogram(samples, sample_rate)\n",
    "    spectogram = spectogram[:, :71]\n",
    "    X.append(spectogram)\n",
    "    Y.append([0,1])\n",
    "    \n",
    "examples = np.asarray(X)\n",
    "labels = np.asarray(Y)"
   ]
  },
  {
   "cell_type": "code",
   "execution_count": 1,
   "metadata": {},
   "outputs": [
    {
     "data": {
      "text/html": [
       "<script>requirejs.config({paths: { 'plotly': ['https://cdn.plot.ly/plotly-latest.min']},});if(!window.Plotly) {{require(['plotly'],function(plotly) {window.Plotly=plotly;});}}</script>"
      ],
      "text/vnd.plotly.v1+html": [
       "<script>requirejs.config({paths: { 'plotly': ['https://cdn.plot.ly/plotly-latest.min']},});if(!window.Plotly) {{require(['plotly'],function(plotly) {window.Plotly=plotly;});}}</script>"
      ]
     },
     "metadata": {},
     "output_type": "display_data"
    }
   ],
   "source": [
    "import os\n",
    "from os.path import isdir, join\n",
    "from pathlib import Path\n",
    "import pandas as pd\n",
    "\n",
    "# Math\n",
    "import numpy as np\n",
    "from scipy.fftpack import fft\n",
    "from scipy import signal\n",
    "from scipy.io import wavfile\n",
    "import librosa\n",
    "\n",
    "from sklearn.decomposition import PCA\n",
    "\n",
    "# Visualization\n",
    "import matplotlib.pyplot as plt\n",
    "import seaborn as sns\n",
    "import IPython.display as ipd\n",
    "import librosa.display\n",
    "\n",
    "import plotly.offline as py\n",
    "py.init_notebook_mode(connected=True)\n",
    "import plotly.graph_objs as go\n",
    "import plotly.tools as tls\n",
    "import pandas as pd\n",
    "\n",
    "%matplotlib inline"
   ]
  },
  {
   "cell_type": "code",
   "execution_count": 2,
   "metadata": {
    "collapsed": true
   },
   "outputs": [],
   "source": [
    "def custom_fft(y, fs):\n",
    "    T = 1.0 / fs\n",
    "    N = y.shape[0]\n",
    "    yf = fft(y)\n",
    "    xf = np.linspace(0.0, 1.0/(2.0*T), N//2)\n",
    "    # FFT is simmetrical, so we take just the first half\n",
    "    # FFT is also complex, to we take just the real part (abs)\n",
    "    vals = 2.0/N * np.abs(yf[0:N//2])\n",
    "    return xf, vals\n",
    "\n",
    "def log_specgram(audio, sample_rate, window_size=20,\n",
    "                 step_size=10, eps=1e-10):\n",
    "    nperseg = int(round(window_size * sample_rate / 1e3))\n",
    "    noverlap = int(round(step_size * sample_rate / 1e3))\n",
    "    freqs, times, spec = signal.spectrogram(audio,\n",
    "                                    fs=sample_rate,\n",
    "                                    window='hann',\n",
    "                                    nperseg=nperseg,\n",
    "                                    noverlap=noverlap,\n",
    "                                    detrend=False)\n",
    "    return freqs, times, np.log(spec.T.astype(np.float32) + eps)"
   ]
  },
  {
   "cell_type": "code",
   "execution_count": 3,
   "metadata": {
    "collapsed": true
   },
   "outputs": [],
   "source": [
    "\n",
    "sample_rate, samples = wavfile.read(\"/Users/vijayrk/kaggle-speech/yes-small-mono/9c06a3f3_nohash_2.wav\")"
   ]
  },
  {
   "cell_type": "code",
   "execution_count": 38,
   "metadata": {},
   "outputs": [
    {
     "name": "stdout",
     "output_type": "stream",
     "text": [
      "[-1.5008184  -1.29080292 -0.80181524 -0.62045245 -0.75402166 -0.66577124\n",
      " -0.68051787 -0.79524926 -0.92874473 -0.95316735 -0.78338737 -0.48221913\n",
      " -0.82186322 -0.87425474 -0.94446579 -0.87268374 -1.31991006 -1.47332972\n",
      " -1.23997585 -0.9429355  -0.74406731 -0.88545934 -0.9568988  -0.99861257\n",
      " -1.25752156 -1.20559603 -1.06243382 -0.91765362 -0.92595029 -0.91362619\n",
      " -0.77801245 -0.60334867 -0.74778377 -0.75964481 -0.6813257  -0.67120503\n",
      " -0.78154771 -0.805452   -0.87190939 -0.8910873  -0.95055931 -0.80898052\n",
      " -0.66763613 -0.53647403 -0.41304707 -0.46368243 -0.40295823 -0.50879284\n",
      " -0.64210601 -0.5419501  -0.6783296  -0.67547326 -0.77312132 -1.01740296\n",
      " -1.09081815 -1.22478356 -1.35714053 -1.4641495  -1.60511824 -1.50005604\n",
      " -1.37888404 -1.50755057 -1.67200768 -2.06535359]\n"
     ]
    }
   ],
   "source": [
    "import vggish_input\n",
    "ex = vggish_input.wavfile_to_examples(\"/Users/vijayrk/kaggle-speech/yes-small-mono/9c06a3f3_nohash_2.wav\")\n",
    "\n",
    "print(np.mean(ex[0,:,], axis=0))"
   ]
  },
  {
   "cell_type": "code",
   "execution_count": 21,
   "metadata": {},
   "outputs": [
    {
     "data": {
      "text/plain": [
       "<matplotlib.text.Text at 0x111938fd0>"
      ]
     },
     "execution_count": 21,
     "metadata": {},
     "output_type": "execute_result"
    },
    {
     "data": {
      "image/png": "[encoded data removed]",
      "text/plain": [
       "<matplotlib.figure.Figure at 0x1114a34a8>"
      ]
     },
     "metadata": {},
     "output_type": "display_data"
    }
   ],
   "source": [
    "freqs, times, spectrogram = log_spectrogram(samples, sample_rate)\n",
    "\n",
    "fig = plt.figure(figsize=(14, 8))\n",
    "ax1 = fig.add_subplot(211)\n",
    "ax1.set_title('Raw wave of audio signal')\n",
    "ax1.set_ylabel('Amplitude')\n",
    "ax1.plot(np.linspace(0, sample_rate/len(samples), sample_rate), samples)\n",
    "\n",
    "ax2 = fig.add_subplot(212)\n",
    "ax2.imshow(spectrogram.T, aspect='auto', origin='lower', \n",
    "           extent=[times.min(), times.max(), freqs.min(), freqs.max()])\n",
    "ax2.set_yticks(freqs[::16])\n",
    "ax2.set_xticks(times[::16])\n",
    "ax2.set_title('Spectrogram of audio signal')\n",
    "ax2.set_ylabel('Freqs in Hz')\n",
    "ax2.set_xlabel('Seconds')"
   ]
  },
  {
   "cell_type": "code",
   "execution_count": 14,
   "metadata": {
    "collapsed": true
   },
   "outputs": [],
   "source": [
    "mean = np.mean(spectrogram, axis=0)\n",
    "std = np.std(spectrogram, axis=0)\n",
    "spectrogram = (spectrogram - mean) / std"
   ]
  },
  {
   "cell_type": "code",
   "execution_count": 33,
   "metadata": {},
   "outputs": [
    {
     "name": "stdout",
     "output_type": "stream",
     "text": [
      "[ -3.02263761   1.83271885   3.77731085   3.79024553   4.65404844\n",
      "   5.12679052   4.97408009   5.0499692    4.65051126   4.08100033\n",
      "   4.22847509   4.73921394   4.3406167    3.79418731   3.77896214\n",
      "   3.7620492    2.97811651   2.50816154   2.77601647   3.28945589\n",
      "   3.69902825   3.74313879   3.31147194   3.23692656   3.23606539\n",
      "   2.83730531   2.29471111   2.41240311   2.45371008   2.58776402\n",
      "   2.86285925   2.94614887   2.72878695   2.69105792   2.80503917\n",
      "   2.74462485   2.97703362   3.25347185   2.93692207   2.8543818\n",
      "   2.76241183   2.70340705   2.7872858    2.91311669   2.63189888\n",
      "   2.76712012   2.66135406   2.40672493   2.33974719   2.26451755\n",
      "   2.34388924   2.28542399   1.86043322   1.90747595   2.11013293\n",
      "   2.10113859   1.55067229   1.67410219   1.79304016   1.9982549\n",
      "   2.22737193   2.35183525   2.19455552   2.12429881   2.4469583\n",
      "   2.59443712   2.7467885    2.66598582   2.49845243   2.34356117\n",
      "   2.15204167   2.58578253   2.53374553   2.35362601   2.40069079\n",
      "   2.41987371   2.30402851   2.00547051   1.66524184   1.64625657\n",
      "   2.00196815   2.04228449   1.99501896   2.02450418   2.04769182\n",
      "   1.89889145   1.61456418   1.59791887   1.54829109   1.56073987\n",
      "   1.73547113   1.57006395   1.47425961   1.49664772   1.1538347\n",
      "   1.04391432   0.98272038   0.73406672   0.42750427   0.49891964\n",
      "   0.65892088   0.53855515   0.3819122    0.2476418    0.22795425\n",
      "   0.10456901   0.13026509  -0.08074242  -0.32620844  -0.60684186\n",
      "  -0.22152999  -0.20465688  -0.21389723  -0.39484116  -0.5155614\n",
      "  -0.77901965  -0.8358199   -1.07320082  -0.80862206  -0.95498025\n",
      "  -1.10027242  -1.22575462  -0.99393612  -0.79512858  -0.72167683\n",
      "  -0.85668778  -0.61310834  -0.49008748  -0.57225084  -0.58882135\n",
      "  -0.6726253   -0.77782381  -0.91586983  -0.88914329  -1.10641813\n",
      "  -1.21942174  -1.21082246  -1.43134475  -1.65281487  -1.42048049\n",
      "  -1.35597301  -1.61089301  -1.62507617  -2.07389283  -2.43512034\n",
      "  -3.09617949  -3.24070406  -3.36158824  -3.59647059  -3.71100068\n",
      "  -4.36026001  -4.19419813  -4.6042614   -5.00534916  -5.38627958\n",
      "  -5.87956095  -6.66395521  -7.61096573  -8.2204113   -9.03722572\n",
      " -11.07952309]\n"
     ]
    }
   ],
   "source": [
    "print(spectrogram)\n",
    "#print(np.mean(spectrogram, axis=0))\n"
   ]
  },
  {
   "cell_type": "code",
   "execution_count": 15,
   "metadata": {},
   "outputs": [
    {
     "data": {
      "text/plain": [
       "array([[-1.33968532, -0.94191641, -0.71477932, ..., -0.7227478 ,\n",
       "        -0.87101096, -0.51396036],\n",
       "       [-1.70973217, -0.71072823, -0.80717146, ..., -1.40198946,\n",
       "        -1.23636591, -0.61505371],\n",
       "       [-1.17252171, -0.95301312, -0.81894416, ..., -0.77561837,\n",
       "        -0.35394609, -0.2817598 ],\n",
       "       ..., \n",
       "       [-0.51490766, -0.9278546 , -0.64591187, ...,  0.08987154,\n",
       "        -0.1078021 , -0.76275587],\n",
       "       [ 0.05778322, -1.45728135, -0.99240971, ..., -0.32026398,\n",
       "        -0.37672788, -0.91134173],\n",
       "       [-0.80479592, -0.28568551, -0.3336266 , ..., -0.00289907,\n",
       "        -0.28471479, -0.39815763]], dtype=float32)"
      ]
     },
     "execution_count": 15,
     "metadata": {},
     "output_type": "execute_result"
    }
   ],
   "source": [
    "spectrogram"
   ]
  },
  {
   "cell_type": "code",
   "execution_count": 159,
   "metadata": {},
   "outputs": [
    {
     "data": {
      "text/plain": [
       "(129, 71)"
      ]
     },
     "execution_count": 159,
     "metadata": {},
     "output_type": "execute_result"
    }
   ],
   "source": [
    "sample_rate, samples = wavfile.read(\"/Users/vijayrk/kaggle-speech/no-small/9e075bf1_nohash_0.wav\")\n",
    "frequencies, times, spectogram = signal.spectrogram(samples, sample_rate)\n",
    "spectogram.shape"
   ]
  },
  {
   "cell_type": "code",
   "execution_count": 161,
   "metadata": {},
   "outputs": [
    {
     "data": {
      "text/plain": [
       "array([ 0.008,  0.022,  0.036,  0.05 ,  0.064,  0.078,  0.092,  0.106,\n",
       "        0.12 ,  0.134,  0.148,  0.162,  0.176,  0.19 ,  0.204,  0.218,\n",
       "        0.232,  0.246,  0.26 ,  0.274,  0.288,  0.302,  0.316,  0.33 ,\n",
       "        0.344,  0.358,  0.372,  0.386,  0.4  ,  0.414,  0.428,  0.442,\n",
       "        0.456,  0.47 ,  0.484,  0.498,  0.512,  0.526,  0.54 ,  0.554,\n",
       "        0.568,  0.582,  0.596,  0.61 ,  0.624,  0.638,  0.652,  0.666,\n",
       "        0.68 ,  0.694,  0.708,  0.722,  0.736,  0.75 ,  0.764,  0.778,\n",
       "        0.792,  0.806,  0.82 ,  0.834,  0.848,  0.862,  0.876,  0.89 ,\n",
       "        0.904,  0.918,  0.932,  0.946,  0.96 ,  0.974,  0.988])"
      ]
     },
     "execution_count": 161,
     "metadata": {},
     "output_type": "execute_result"
    }
   ],
   "source": [
    "times"
   ]
  },
  {
   "cell_type": "code",
   "execution_count": 156,
   "metadata": {},
   "outputs": [
    {
     "data": {
      "text/plain": [
       "(3, 129, 71)"
      ]
     },
     "execution_count": 156,
     "metadata": {},
     "output_type": "execute_result"
    }
   ],
   "source": [
    "indices = [1,5,10]\n",
    "examples[indices].shape"
   ]
  },
  {
   "cell_type": "code",
   "execution_count": 146,
   "metadata": {
    "collapsed": true
   },
   "outputs": [],
   "source": [
    "def get_data(dir, ques):\n",
    "\tlb = preprocessing.LabelBinarizer()\n",
    "\n",
    "\tfolders = [os.path.join(dir, f) for f in listdir(dir) \n",
    "\t\t\t\tif not isfile(join(dir, f))]\n",
    "\n",
    "\tque_dict = {}\n",
    "\tfor folder in folders:\n",
    "\t\tfor que in ques:\n",
    "\t\t\tif que in folder:\n",
    "\t\t\t\tque_dict[que] = folder\n",
    "\n",
    "\tlb.fit(list(que_dict.keys()))\n",
    "\n",
    "\tX = []\n",
    "\tY = []\n",
    "\n",
    "\tfor que in que_dict.keys():\n",
    "\t\tfolder = que_dict[que]\n",
    "\t\tfor file in [os.path.join(folder, f) for f in listdir(folder) if isfile(join(folder, f))]:\n",
    "\t\t\tsample_rate, samples = wavfile.read(files)\n",
    "\t\t\tfrequencies, times, spectogram = signal.spectrogram(samples, sample_rate)\n",
    "\t\t\tspectogram = spectogram[:, :71]\n",
    "\t\t\tX.append(spectogram)\n",
    "\t\t\tY.append(lb.transform([que])[0])\n",
    "\n",
    "\texamples = np.asarray(X)\n",
    "\tlabels = np.asarray(Y)\n",
    "\n",
    "\treturn examples, labels\n"
   ]
  },
  {
   "cell_type": "code",
   "execution_count": 151,
   "metadata": {
    "scrolled": true
   },
   "outputs": [
    {
     "data": {
      "text/plain": [
       "array([[0, 1, 0],\n",
       "       [0, 1, 0],\n",
       "       [0, 1, 0],\n",
       "       [0, 1, 0],\n",
       "       [0, 1, 0],\n",
       "       [0, 1, 0],\n",
       "       [0, 1, 0],\n",
       "       [0, 1, 0],\n",
       "       [0, 1, 0],\n",
       "       [0, 1, 0],\n",
       "       [0, 1, 0],\n",
       "       [0, 1, 0],\n",
       "       [0, 1, 0],\n",
       "       [0, 1, 0],\n",
       "       [0, 1, 0],\n",
       "       [0, 1, 0],\n",
       "       [0, 1, 0],\n",
       "       [0, 1, 0],\n",
       "       [0, 1, 0],\n",
       "       [0, 1, 0],\n",
       "       [0, 1, 0],\n",
       "       [0, 1, 0],\n",
       "       [0, 1, 0],\n",
       "       [0, 1, 0],\n",
       "       [0, 1, 0],\n",
       "       [0, 0, 1],\n",
       "       [0, 0, 1],\n",
       "       [0, 0, 1],\n",
       "       [0, 0, 1],\n",
       "       [0, 0, 1],\n",
       "       [0, 0, 1],\n",
       "       [0, 0, 1],\n",
       "       [0, 0, 1],\n",
       "       [0, 0, 1],\n",
       "       [0, 0, 1],\n",
       "       [0, 0, 1],\n",
       "       [0, 0, 1],\n",
       "       [0, 0, 1],\n",
       "       [0, 0, 1],\n",
       "       [0, 0, 1],\n",
       "       [0, 0, 1],\n",
       "       [0, 0, 1],\n",
       "       [0, 0, 1],\n",
       "       [0, 0, 1],\n",
       "       [0, 0, 1],\n",
       "       [0, 0, 1],\n",
       "       [0, 0, 1],\n",
       "       [0, 0, 1],\n",
       "       [0, 0, 1],\n",
       "       [0, 0, 1],\n",
       "       [0, 0, 1],\n",
       "       [0, 0, 1],\n",
       "       [1, 0, 0],\n",
       "       [1, 0, 0],\n",
       "       [1, 0, 0],\n",
       "       [1, 0, 0],\n",
       "       [1, 0, 0],\n",
       "       [1, 0, 0],\n",
       "       [1, 0, 0],\n",
       "       [1, 0, 0],\n",
       "       [1, 0, 0],\n",
       "       [1, 0, 0],\n",
       "       [1, 0, 0],\n",
       "       [1, 0, 0],\n",
       "       [1, 0, 0],\n",
       "       [1, 0, 0],\n",
       "       [1, 0, 0],\n",
       "       [1, 0, 0],\n",
       "       [1, 0, 0],\n",
       "       [1, 0, 0],\n",
       "       [1, 0, 0],\n",
       "       [1, 0, 0],\n",
       "       [1, 0, 0],\n",
       "       [1, 0, 0],\n",
       "       [1, 0, 0],\n",
       "       [1, 0, 0],\n",
       "       [1, 0, 0]])"
      ]
     },
     "execution_count": 151,
     "metadata": {},
     "output_type": "execute_result"
    }
   ],
   "source": [
    "examples, labels = get_data(\"/Users/vijayrk/kaggle-speech\", [\"no-small\", \"yes-small\", \"no-small-mono\"])"
   ]
  },
  {
   "cell_type": "code",
   "execution_count": 105,
   "metadata": {
    "collapsed": true
   },
   "outputs": [],
   "source": [
    "# Training Parameters\n",
    "learning_rate = 0.001\n",
    "num_steps = 500\n",
    "batch_size = 5\n",
    "display_step = 1\n",
    "\n",
    "# Network Parameters\n",
    "num_input = 784 # MNIST data input (img shape: 28*28)\n",
    "num_classes = 2 # MNIST total classes (0-9 digits)\n",
    "dropout = 0.75 # Dropout, probability to keep units\n",
    "\n",
    "# tf Graph input\n",
    "X = tf.placeholder(tf.float32, [None, examples.shape[1], examples.shape[2]])\n",
    "Y = tf.placeholder(tf.float32, [None, num_classes])\n",
    "keep_prob = tf.placeholder(tf.float32) # dropout (keep probability)"
   ]
  },
  {
   "cell_type": "code",
   "execution_count": 110,
   "metadata": {},
   "outputs": [
    {
     "data": {
      "text/plain": [
       "TensorShape([Dimension(None), Dimension(129), Dimension(71)])"
      ]
     },
     "execution_count": 110,
     "metadata": {},
     "output_type": "execute_result"
    }
   ],
   "source": [
    "X.get_shape()"
   ]
  },
  {
   "cell_type": "code",
   "execution_count": 111,
   "metadata": {
    "collapsed": true
   },
   "outputs": [],
   "source": [
    "# Create some wrappers for simplicity\n",
    "def conv2d(x, W, b, strides=1):\n",
    "    # Conv2D wrapper, with bias and relu activation\n",
    "    x = tf.nn.conv2d(x, W, strides=[1, strides, strides, 1], padding='SAME')\n",
    "    x = tf.nn.bias_add(x, b)\n",
    "    return tf.nn.relu(x)\n",
    "\n",
    "\n",
    "def maxpool2d(x, k=2):\n",
    "    # MaxPool2D wrapper\n",
    "    return tf.nn.max_pool(x, ksize=[1, k, k, 1], strides=[1, k, k, 1],\n",
    "                          padding='SAME')\n",
    "\n",
    "# Create model\n",
    "def conv_net(x, weights, biases, dropout):\n",
    "    # MNIST data input is a 1-D vector of 784 features (28*28 pixels)\n",
    "    # Reshape to match picture format [Height x Width x Channel]\n",
    "    # Tensor input become 4-D: [Batch Size, Height, Width, Channel]\n",
    "    x = tf.reshape(x, shape=[-1, 129, 71, 1])\n",
    "\n",
    "    # Convolution Layer\n",
    "    conv1 = conv2d(x, weights['wc1'], biases['bc1'])\n",
    "    # Max Pooling (down-sampling)\n",
    "    conv1 = maxpool2d(conv1, k=2)\n",
    "\n",
    "    # Convolution Layer\n",
    "    conv2 = conv2d(conv1, weights['wc2'], biases['bc2'])\n",
    "    # Max Pooling (down-sampling)\n",
    "    conv2 = maxpool2d(conv2, k=2)\n",
    "    \n",
    "    # Fully connected layer\n",
    "    # Reshape conv2 output to fit fully connected layer input\n",
    "    fc1 = tf.reshape(conv2, [-1, weights['wd1'].get_shape().as_list()[0]])\n",
    "    fc1 = tf.add(tf.matmul(fc1, weights['wd1']), biases['bd1'])\n",
    "    fc1 = tf.nn.relu(fc1)\n",
    "    # Apply Dropout\n",
    "    fc1 = tf.nn.dropout(fc1, dropout)\n",
    "\n",
    "    # Output, class prediction\n",
    "    out = tf.add(tf.matmul(fc1, weights['out']), biases['out'])\n",
    "    return out\n",
    "\n",
    "# spectogram_reshape = tf.reshape(spectogram, [1, spectogram.shape[0], spectogram.shape[1], 1])\n",
    "# print(spectogram_reshape[0])"
   ]
  },
  {
   "cell_type": "code",
   "execution_count": 112,
   "metadata": {
    "collapsed": true
   },
   "outputs": [],
   "source": [
    "num_classes = 2\n",
    "\n",
    "# Store layers weight & bias\n",
    "weights = {\n",
    "    # 5x5 conv, 1 input, 32 outputs\n",
    "    'wc1': tf.Variable(tf.random_normal([5, 5, 1, 32])),\n",
    "    # 5x5 conv, 32 inputs, 64 outputs\n",
    "    'wc2': tf.Variable(tf.random_normal([5, 5, 32, 64])),\n",
    "    # fully connected, 7*7*64 inputs, 1024 outputs\n",
    "    'wd1': tf.Variable(tf.random_normal([33*18*64, 1024])),\n",
    "    # 1024 inputs, 10 outputs (class prediction)\n",
    "    'out': tf.Variable(tf.random_normal([1024, num_classes]))\n",
    "}\n",
    "\n",
    "biases = {\n",
    "    'bc1': tf.Variable(tf.random_normal([32])),\n",
    "    'bc2': tf.Variable(tf.random_normal([64])),\n",
    "    'bd1': tf.Variable(tf.random_normal([1024])),\n",
    "    'out': tf.Variable(tf.random_normal([num_classes]))\n",
    "}\n",
    "\n",
    "# Construct model\n",
    "logits = conv_net(X, weights, biases, keep_prob)\n",
    "prediction = tf.nn.softmax(logits)\n",
    "\n",
    "# Define loss and optimizer\n",
    "loss_op = tf.reduce_mean(tf.nn.softmax_cross_entropy_with_logits(\n",
    "    logits=logits, labels=Y))\n",
    "\n",
    "optimizer = tf.train.AdamOptimizer(learning_rate=learning_rate)\n",
    "train_op = optimizer.minimize(loss_op)\n",
    "\n",
    "# Evaluate model\n",
    "correct_pred = tf.equal(tf.argmax(prediction, 1), tf.argmax(Y, 1))\n",
    "accuracy = tf.reduce_mean(tf.cast(correct_pred, tf.float32))\n",
    "\n",
    "# Initialize the variables (i.e. assign their default value)\n",
    "init = tf.global_variables_initializer()"
   ]
  },
  {
   "cell_type": "code",
   "execution_count": 122,
   "metadata": {
    "scrolled": true
   },
   "outputs": [
    {
     "name": "stdout",
     "output_type": "stream",
     "text": [
      "Step 1, Minibatch Loss= 0.0000, Training Accuracy= 1.000\n",
      "Step 2, Minibatch Loss= 0.0000, Training Accuracy= 1.000\n",
      "Step 3, Minibatch Loss= 0.0000, Training Accuracy= 1.000\n",
      "Step 4, Minibatch Loss= 0.0000, Training Accuracy= 1.000\n",
      "Step 5, Minibatch Loss= 0.0000, Training Accuracy= 1.000\n",
      "Step 6, Minibatch Loss= 11179289600.0000, Training Accuracy= 0.400\n",
      "Step 7, Minibatch Loss= 658778624.0000, Training Accuracy= 0.600\n",
      "Step 8, Minibatch Loss= 30913155072.0000, Training Accuracy= 0.200\n",
      "Step 9, Minibatch Loss= 7293127680.0000, Training Accuracy= 0.000\n",
      "Step 10, Minibatch Loss= 2807205376.0000, Training Accuracy= 0.000\n",
      "Step 11, Minibatch Loss= 0.0000, Training Accuracy= 1.000\n",
      "Optimization Finished!\n"
     ]
    }
   ],
   "source": [
    "# Start training\n",
    "with tf.Session() as sess:\n",
    "\n",
    "    # Run the initializer\n",
    "    sess.run(init)\n",
    "\n",
    "    for step in range(1, num_steps+1):\n",
    "        batch_x = examples[(step-1)*batch_size : step*batch_size]\n",
    "        batch_y = labels[(step-1)*batch_size : step*batch_size]\n",
    "        \n",
    "        if len(batch_x) == 0:\n",
    "            break\n",
    "                \n",
    "        # Run optimization op (backprop)\n",
    "        sess.run(train_op, feed_dict={X: batch_x, Y: batch_y, keep_prob: dropout})\n",
    "        if step % display_step == 0 or step == 1:\n",
    "            # Calculate batch loss and accuracy\n",
    "            loss, acc = sess.run([loss_op, accuracy], feed_dict={X: batch_x,\n",
    "                                                                 Y: batch_y,\n",
    "                                                                 keep_prob: 1.0})\n",
    "            print(\"Step \" + str(step) + \", Minibatch Loss= \" + \\\n",
    "                  \"{:.4f}\".format(loss) + \", Training Accuracy= \" + \\\n",
    "                  \"{:.3f}\".format(acc))\n",
    "\n",
    "    print(\"Optimization Finished!\")"
   ]
  },
  {
   "cell_type": "code",
   "execution_count": 115,
   "metadata": {},
   "outputs": [
    {
     "name": "stdout",
     "output_type": "stream",
     "text": [
      "Successfully downloaded train-images-idx3-ubyte.gz 9912422 bytes.\n",
      "Extracting /tmp/data/train-images-idx3-ubyte.gz\n",
      "Successfully downloaded train-labels-idx1-ubyte.gz 28881 bytes.\n",
      "Extracting /tmp/data/train-labels-idx1-ubyte.gz\n",
      "Successfully downloaded t10k-images-idx3-ubyte.gz 1648877 bytes.\n",
      "Extracting /tmp/data/t10k-images-idx3-ubyte.gz\n",
      "Successfully downloaded t10k-labels-idx1-ubyte.gz 4542 bytes.\n",
      "Extracting /tmp/data/t10k-labels-idx1-ubyte.gz\n"
     ]
    }
   ],
   "source": [
    "from tensorflow.examples.tutorials.mnist import input_data\n",
    "mnist = input_data.read_data_sets(\"/tmp/data/\", one_hot=True)"
   ]
  },
  {
   "cell_type": "code",
   "execution_count": 116,
   "metadata": {
    "collapsed": true
   },
   "outputs": [],
   "source": [
    "batch_x, batch_y = mnist.train.next_batch(5)"
   ]
  },
  {
   "cell_type": "code",
   "execution_count": 130,
   "metadata": {},
   "outputs": [
    {
     "name": "stdout",
     "output_type": "stream",
     "text": [
      "['/Users/vijayrk/kaggle-speech/.ipynb_checkpoints', '/Users/vijayrk/kaggle-speech/no-small', '/Users/vijayrk/kaggle-speech/no-small-mono', '/Users/vijayrk/kaggle-speech/tensorflow', '/Users/vijayrk/kaggle-speech/yes-small', '/Users/vijayrk/kaggle-speech/yes-small-mono']\n"
     ]
    }
   ],
   "source": [
    "yes_path = \"/Users/vijayrk/kaggle-speech\"\n",
    "yes_files = [os.path.join(yes_path, f) for f in listdir(yes_path) if not isfile(join(yes_path, f))]\n",
    "print(yes_files)"
   ]
  },
  {
   "cell_type": "code",
   "execution_count": 135,
   "metadata": {},
   "outputs": [
    {
     "data": {
      "text/plain": [
       "array([2])"
      ]
     },
     "execution_count": 135,
     "metadata": {},
     "output_type": "execute_result"
    }
   ],
   "source": [
    "from sklearn import preprocessing\n",
    "le = preprocessing.LabelEncoder()\n",
    "le.fit([\"car\", \"cat\", \"dog\"])\n",
    "le.classes_\n",
    "le.transform([\"dog\"])"
   ]
  },
  {
   "cell_type": "code",
   "execution_count": 140,
   "metadata": {},
   "outputs": [
    {
     "data": {
      "text/plain": [
       "array([1, 0, 0])"
      ]
     },
     "execution_count": 140,
     "metadata": {},
     "output_type": "execute_result"
    }
   ],
   "source": [
    "from sklearn import preprocessing\n",
    "lb = preprocessing.LabelBinarizer()\n",
    "lb.fit_transform([\"car\", \"cat\", \"dog\"])\n",
    "lb.transform([\"car\"])[0]"
   ]
  },
  {
   "cell_type": "code",
   "execution_count": 16,
   "metadata": {},
   "outputs": [
    {
     "name": "stdout",
     "output_type": "stream",
     "text": [
      "95.183125\n"
     ]
    },
    {
     "data": {
      "text/plain": [
       "17"
      ]
     },
     "execution_count": 16,
     "metadata": {},
     "output_type": "execute_result"
    }
   ],
   "source": [
    "import random\n",
    "import os\n",
    "from pydub import AudioSegment\n",
    "\n",
    "\n",
    "random.seed(1)\n",
    "\n",
    "files = [\"/data/kaggle_speech/_background_noise_/doing_the_dishes.wav\",\n",
    "        \"/data/kaggle_speech/_background_noise_/exercise_bike.wav\",\n",
    "        \"/data/kaggle_speech/_background_noise_/running_tap.wav\",\n",
    "        \"/data/kaggle_speech/_background_noise_/white_noise.wav\",\n",
    "        \"/data/kaggle_speech/_background_noise_/dude_miaowing.wav\",\n",
    "        \"/data/kaggle_speech/_background_noise_/pink_noise.wav\"]\n",
    "\n",
    "for file in files:\n",
    "    for i in range(500):\n",
    "        newAudio = AudioSegment.from_wav(file)\n",
    "        start_duration = random.randrange(int(newAudio.duration_seconds - 1))\n",
    "        newAudio = newAudio[start_duration:start_duration + 1]\n",
    "        file_name = os.path.splitext(os.path.basename(file))[0]\n",
    "        newAudio.export(\"/data/kaggle_speech/silence/{}_{}.wav\".format(file_name, i), format=\"wav\")"
   ]
  },
  {
   "cell_type": "code",
   "execution_count": null,
   "metadata": {
    "collapsed": true
   },
   "outputs": [],
   "source": []
  }
 ],
 "metadata": {
  "kernelspec": {
   "display_name": "Python 3",
   "language": "python",
   "name": "python3"
  },
  "language_info": {
   "codemirror_mode": {
    "name": "ipython",
    "version": 3
   },
   "file_extension": ".py",
   "mimetype": "text/x-python",
   "name": "python",
   "nbconvert_exporter": "python",
   "pygments_lexer": "ipython3",
   "version": "3.5.3"
  }
 },
 "nbformat": 4,
 "nbformat_minor": 2
}
